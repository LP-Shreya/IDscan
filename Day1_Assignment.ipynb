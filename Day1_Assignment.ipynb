{
  "nbformat": 4,
  "nbformat_minor": 0,
  "metadata": {
    "colab": {
      "name": "Day1_Assignment.ipynb",
      "provenance": [],
      "authorship_tag": "ABX9TyMfNv7vvma8pavfW3mjQEyF",
      "include_colab_link": true
    },
    "kernelspec": {
      "name": "python3",
      "display_name": "Python 3"
    },
    "language_info": {
      "name": "python"
    }
  },
  "cells": [
    {
      "cell_type": "markdown",
      "metadata": {
        "id": "view-in-github",
        "colab_type": "text"
      },
      "source": [
        "<a href=\"https://colab.research.google.com/github/LP-Shreya/IDscan/blob/main/Day1_Assignment.ipynb\" target=\"_parent\"><img src=\"https://colab.research.google.com/assets/colab-badge.svg\" alt=\"Open In Colab\"/></a>"
      ]
    },
    {
      "cell_type": "code",
      "metadata": {
        "id": "qaXHjVmmNYzl"
      },
      "source": [
        "import numpy as np\n",
        "# import pandas as pd\n",
        "# import seaborn as sns\n",
        "\n",
        "# import matplotlib as mpl\n",
        "import matplotlib.pyplot as plt\n",
        "import numpy as np\n",
        "%matplotlib inline\n",
        "# from numpy.random import randn,randint,uniform,sample"
      ],
      "execution_count": 11,
      "outputs": []
    },
    {
      "cell_type": "markdown",
      "metadata": {
        "id": "kRdkr1n1NPG8"
      },
      "source": [
        "**ASSIGNMENT 1** \n",
        "---\n",
        "Plot a line graph having line equation as y=3*x+10 where x ranges from 0-9\n",
        "\n",
        "\n",
        "\n"
      ]
    },
    {
      "cell_type": "code",
      "metadata": {
        "colab": {
          "base_uri": "https://localhost:8080/",
          "height": 312
        },
        "id": "4JPOXfLENU5h",
        "outputId": "7460f76b-a5f4-40b8-9999-29ad9bde9870"
      },
      "source": [
        "# x ranges from 0-9 and  y is square of x \n",
        "x=np.arange(0,10)\n",
        "y=3*x+10\n",
        "plt.title('2d-Diagram',c='g')\n",
        "plt.xlabel('x axis',c='b')\n",
        "plt.ylabel(\"y axis\",c='b')\n",
        "plt.plot(x,y,'o--',linewidth=1,markersize=9,mfc='r')"
      ],
      "execution_count": 44,
      "outputs": [
        {
          "output_type": "execute_result",
          "data": {
            "text/plain": [
              "[<matplotlib.lines.Line2D at 0x7fe5edc0dd90>]"
            ]
          },
          "metadata": {
            "tags": []
          },
          "execution_count": 44
        },
        {
          "output_type": "display_data",
          "data": {
            "image/png": "[encoded data removed]",
            "text/plain": [
              "<Figure size 432x288 with 1 Axes>"
            ]
          },
          "metadata": {
            "tags": [],
            "needs_background": "light"
          }
        }
      ]
    },
    {
      "cell_type": "code",
      "metadata": {
        "colab": {
          "base_uri": "https://localhost:8080/"
        },
        "id": "cRELHABlNeg0",
        "outputId": "dfb1e81f-10af-49ce-e591-a4b4d4997eed"
      },
      "source": [
        "x"
      ],
      "execution_count": 45,
      "outputs": [
        {
          "output_type": "execute_result",
          "data": {
            "text/plain": [
              "array([0, 1, 2, 3, 4, 5, 6, 7, 8, 9])"
            ]
          },
          "metadata": {
            "tags": []
          },
          "execution_count": 45
        }
      ]
    },
    {
      "cell_type": "code",
      "metadata": {
        "colab": {
          "base_uri": "https://localhost:8080/"
        },
        "id": "PitZXlBvNf-8",
        "outputId": "e601f91b-2fab-4f4b-976a-ed013464f45e"
      },
      "source": [
        "y"
      ],
      "execution_count": 46,
      "outputs": [
        {
          "output_type": "execute_result",
          "data": {
            "text/plain": [
              "array([10, 13, 16, 19, 22, 25, 28, 31, 34, 37])"
            ]
          },
          "metadata": {
            "tags": []
          },
          "execution_count": 46
        }
      ]
    },
    {
      "cell_type": "code",
      "metadata": {
        "colab": {
          "base_uri": "https://localhost:8080/",
          "height": 282
        },
        "id": "GsYThic6O50J",
        "outputId": "d2000a4a-6405-43b2-d529-c792835db3d9"
      },
      "source": [
        "plt.subplot(2,2,1)\n",
        "plt.plot(x,y,'ro--')\n",
        "plt.subplot(2,2,2)\n",
        "plt.plot(x,y,'g*--')\n",
        "plt.subplot(2,2,3)\n",
        "plt.plot(x,y,'b+')\n",
        "plt.subplot(2,2,4)\n",
        "plt.plot(x,y,'r')"
      ],
      "execution_count": 47,
      "outputs": [
        {
          "output_type": "execute_result",
          "data": {
            "text/plain": [
              "[<matplotlib.lines.Line2D at 0x7fe5edab0bd0>]"
            ]
          },
          "metadata": {
            "tags": []
          },
          "execution_count": 47
        },
        {
          "output_type": "display_data",
          "data": {
            "image/png": "[encoded data removed]",
            "text/plain": [
              "<Figure size 432x288 with 4 Axes>"
            ]
          },
          "metadata": {
            "tags": [],
            "needs_background": "light"
          }
        }
      ]
    },
    {
      "cell_type": "markdown",
      "metadata": {
        "id": "ODKvxuJnOMOj"
      },
      "source": [
        "\n",
        "\n",
        "---\n",
        "\n"
      ]
    },
    {
      "cell_type": "markdown",
      "metadata": {
        "id": "CEYTtq50NiJ8"
      },
      "source": [
        "\n",
        "**ASSIGNMENT 2**\n",
        "---\n",
        "\n",
        "\n",
        "Plot sales of a product against 7 days, where the values of product on each day are (160,150,140,145,175,165,180)"
      ]
    },
    {
      "cell_type": "code",
      "metadata": {
        "id": "vhhO1NWEORuQ"
      },
      "source": [
        "days=[1,2,3,4,5,6,7]\n",
        "sales=[160,150,140,145,175,165,180]"
      ],
      "execution_count": 50,
      "outputs": []
    },
    {
      "cell_type": "code",
      "metadata": {
        "colab": {
          "base_uri": "https://localhost:8080/"
        },
        "id": "AxQ-8uSCOYDC",
        "outputId": "37a1af6e-4f85-40b0-faa7-42491000242b"
      },
      "source": [
        "days"
      ],
      "execution_count": 51,
      "outputs": [
        {
          "output_type": "execute_result",
          "data": {
            "text/plain": [
              "[1, 2, 3, 4, 5, 6, 7]"
            ]
          },
          "metadata": {
            "tags": []
          },
          "execution_count": 51
        }
      ]
    },
    {
      "cell_type": "code",
      "metadata": {
        "colab": {
          "base_uri": "https://localhost:8080/"
        },
        "id": "OOiXFBtNObZz",
        "outputId": "b02c2ee1-b46b-4e6b-aced-526a8aa6b854"
      },
      "source": [
        "sales"
      ],
      "execution_count": 52,
      "outputs": [
        {
          "output_type": "execute_result",
          "data": {
            "text/plain": [
              "[160, 150, 140, 145, 175, 165, 180]"
            ]
          },
          "metadata": {
            "tags": []
          },
          "execution_count": 52
        }
      ]
    },
    {
      "cell_type": "code",
      "metadata": {
        "colab": {
          "base_uri": "https://localhost:8080/",
          "height": 312
        },
        "id": "3nmMgjlAOeBA",
        "outputId": "f3f52b35-2c3c-4d8d-9ff4-e885fc2d3141"
      },
      "source": [
        "plt.plot(days,sales,'o--',linewidth=1,markersize=9,mfc='r')\n",
        "plt.title('SALES Report',c='g')\n",
        "plt.xlabel('Days',c='b')\n",
        "plt.ylabel(\"sales\",c='b')\n"
      ],
      "execution_count": 58,
      "outputs": [
        {
          "output_type": "execute_result",
          "data": {
            "text/plain": [
              "Text(0, 0.5, 'sales')"
            ]
          },
          "metadata": {
            "tags": []
          },
          "execution_count": 58
        },
        {
          "output_type": "display_data",
          "data": {
            "image/png": "[encoded data removed]",
            "text/plain": [
              "<Figure size 432x288 with 1 Axes>"
            ]
          },
          "metadata": {
            "tags": [],
            "needs_background": "light"
          }
        }
      ]
    },
    {
      "cell_type": "code",
      "metadata": {
        "colab": {
          "base_uri": "https://localhost:8080/",
          "height": 282
        },
        "id": "kT5mMrg_Of_L",
        "outputId": "306b2948-5b39-4eba-8a36-771a46e245b2"
      },
      "source": [
        "plt.subplot(2,2,1)\n",
        "plt.plot(x,y,'ro--')\n",
        "plt.subplot(2,2,2)\n",
        "plt.plot(x,y,'g*--')\n",
        "plt.subplot(2,2,3)\n",
        "plt.plot(x,y,'b+')\n",
        "plt.subplot(2,2,4)\n",
        "plt.plot(x,y,'r')"
      ],
      "execution_count": 56,
      "outputs": [
        {
          "output_type": "execute_result",
          "data": {
            "text/plain": [
              "[<matplotlib.lines.Line2D at 0x7fe5ed75c8d0>]"
            ]
          },
          "metadata": {
            "tags": []
          },
          "execution_count": 56
        },
        {
          "output_type": "display_data",
          "data": {
            "image/png": "[encoded data removed]",
            "text/plain": [
              "<Figure size 432x288 with 4 Axes>"
            ]
          },
          "metadata": {
            "tags": [],
            "needs_background": "light"
          }
        }
      ]
    }
  ]
}